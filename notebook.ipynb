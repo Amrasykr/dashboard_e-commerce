{
 "cells": [
  {
   "cell_type": "markdown",
   "metadata": {
    "id": "H9wADwK78DCz"
   },
   "source": [
    "# Proyek Analisis Data: [Input Nama Dataset]\n",
    "- **Nama:** Ammar Asysyakur\n",
    "- **Email:** ammarasysyakur723@gmail.com\n",
    "- **ID Dicoding:** [Input Username]"
   ]
  },
  {
   "cell_type": "markdown",
   "metadata": {
    "id": "eE0raob58DC0"
   },
   "source": [
    "## Menentukan Pertanyaan Bisnis"
   ]
  },
  {
   "cell_type": "markdown",
   "metadata": {
    "id": "GmQeQ5YF8DC0"
   },
   "source": [
    "- Bagaimana distribusi penjualan berdasarkan kategori produk?\n",
    "- Bagaimana waktu dan pola pembayaran pelanggan?"
   ]
  },
  {
   "cell_type": "markdown",
   "metadata": {
    "id": "H-z4QGlO8DC1"
   },
   "source": [
    "## Import Semua Packages/Library yang Digunakan"
   ]
  },
  {
   "cell_type": "code",
   "execution_count": 19,
   "metadata": {
    "id": "FVYwaObI8DC1"
   },
   "outputs": [],
   "source": [
    "import numpy as np\n",
    "import pandas as pd\n",
    "import matplotlib.pyplot as plt\n",
    "import seaborn as sns"
   ]
  },
  {
   "cell_type": "markdown",
   "metadata": {
    "id": "h_Sh51Xy8DC1"
   },
   "source": [
    "## Data Wrangling"
   ]
  },
  {
   "cell_type": "markdown",
   "metadata": {
    "id": "sXU2GBYu8DC1"
   },
   "source": [
    "### Gathering Data"
   ]
  },
  {
   "cell_type": "code",
   "execution_count": null,
   "metadata": {},
   "outputs": [],
   "source": [
    "orders_df = pd.read_csv(\"data/orders_dataset.csv\")\n",
    "orders_df.head()"
   ]
  },
  {
   "cell_type": "code",
   "execution_count": null,
   "metadata": {},
   "outputs": [],
   "source": [
    "order_items_df = pd.read_csv(\"data/order_items_dataset.csv\")\n",
    "order_items_df.head()"
   ]
  },
  {
   "cell_type": "code",
   "execution_count": null,
   "metadata": {},
   "outputs": [],
   "source": [
    "order_payments_df = pd.read_csv(\"data/order_payments_dataset.csv\")\n",
    "order_payments_df.head()"
   ]
  },
  {
   "cell_type": "code",
   "execution_count": null,
   "metadata": {},
   "outputs": [],
   "source": [
    "product_category_df = pd.read_csv(\"data/product_category_name_translation.csv\")\n",
    "product_category_df.head()"
   ]
  },
  {
   "cell_type": "code",
   "execution_count": null,
   "metadata": {},
   "outputs": [],
   "source": [
    "products_df = pd.read_csv(\"data/products_dataset.csv\")\n",
    "products_df.head()"
   ]
  },
  {
   "cell_type": "markdown",
   "metadata": {
    "id": "MMi6xGaDkbCi"
   },
   "source": [
    "**Insight:**\n",
    "- \n",
    "- Data yang dibutuhkan untuk menjawab pertanyaan pertama adalah data product yaitu nama nama produk, data product_category_transalation yaitu kategori produk beserta terjemahannya kedalam bahasa inggris, dan data order_items yaitu data item pesanan yang meliputi data pesanan, produk, seller, batas pengiriman dan harga\n",
    "- Sedangkan data yang dibutuhkan untuk pertanyaan kedua ialah data order_payments yaitu data urutan pembayaran, tipe pembayaran, jumlah cicilan dan jumlah pembayaran dan juga data order yaitu pesanan"
   ]
  },
  {
   "cell_type": "markdown",
   "metadata": {
    "id": "FHSiqaZp8DC1"
   },
   "source": [
    "### Assessing Data"
   ]
  },
  {
   "cell_type": "code",
   "execution_count": null,
   "metadata": {},
   "outputs": [],
   "source": [
    "products_df.info()"
   ]
  },
  {
   "cell_type": "code",
   "execution_count": null,
   "metadata": {
    "id": "ax-3tEjc9Cj1"
   },
   "outputs": [],
   "source": [
    "products_df.isna().sum()"
   ]
  },
  {
   "cell_type": "code",
   "execution_count": null,
   "metadata": {},
   "outputs": [],
   "source": [
    "print(\"Jumlah duplikasi: \", products_df.duplicated().sum())"
   ]
  },
  {
   "cell_type": "markdown",
   "metadata": {
    "id": "7dtxhAPrkhPL"
   },
   "source": [
    "**Insight:**\n",
    "- Terlihat beberapa kolom tidak sama dengan jumlahnya dengan product_id maka perlu dilakukan replace data yang missing\n",
    "- Pengecekan pada duplikasi data data tidak ada\n",
    "- product_dataset = missing value"
   ]
  },
  {
   "cell_type": "code",
   "execution_count": null,
   "metadata": {},
   "outputs": [],
   "source": [
    "product_category_df.info()"
   ]
  },
  {
   "cell_type": "code",
   "execution_count": null,
   "metadata": {},
   "outputs": [],
   "source": [
    "print(\"Jumlah duplikasi: \", product_category_df.duplicated().sum())"
   ]
  },
  {
   "cell_type": "markdown",
   "metadata": {
    "id": "7dtxhAPrkhPL"
   },
   "source": [
    "**Insight:**\n",
    "- Pada data kategori produk telah dilakukan pengecekan yang menghasilkan 0 untuk missing value dan duplicate data maka data kategori produk aman"
   ]
  },
  {
   "cell_type": "code",
   "execution_count": null,
   "metadata": {},
   "outputs": [],
   "source": [
    "order_items_df.info()"
   ]
  },
  {
   "cell_type": "code",
   "execution_count": null,
   "metadata": {},
   "outputs": [],
   "source": [
    "print(\"Jumlah duplikasi: \", order_items_df.duplicated().sum())"
   ]
  },
  {
   "cell_type": "markdown",
   "metadata": {
    "id": "7dtxhAPrkhPL"
   },
   "source": [
    "**Insight:**\n",
    "- Pada data order items telah dilakukan pengecekan yang menghasilkan 0 untuk missing value dan duplicate data maka data order item aman\n",
    "- - namun pada beberapa data yang berupa tanggal tipe datanya masih objek"
   ]
  },
  {
   "cell_type": "code",
   "execution_count": null,
   "metadata": {},
   "outputs": [],
   "source": [
    "order_payments_df.info()\n",
    "# order_payments_df.isna().sum()"
   ]
  },
  {
   "cell_type": "code",
   "execution_count": null,
   "metadata": {},
   "outputs": [],
   "source": [
    "print(\"Jumlah duplikasi: \", order_payments_df.duplicated().sum())"
   ]
  },
  {
   "cell_type": "markdown",
   "metadata": {
    "id": "7dtxhAPrkhPL"
   },
   "source": [
    "**Insight:**\n",
    "- Pada data order payments telah dilakukan pengecekan yang menghasilkan 0 untuk missing value dan duplicate data maka data order payments aman"
   ]
  },
  {
   "cell_type": "code",
   "execution_count": null,
   "metadata": {},
   "outputs": [],
   "source": [
    "orders_df.info()\n",
    "orders_df.isna().sum()"
   ]
  },
  {
   "cell_type": "code",
   "execution_count": null,
   "metadata": {},
   "outputs": [],
   "source": [
    "print(\"Jumlah duplikasi: \", orders_df.duplicated().sum())"
   ]
  },
  {
   "cell_type": "markdown",
   "metadata": {
    "id": "7dtxhAPrkhPL"
   },
   "source": [
    "**Insight:**\n",
    "- Pada data order  telah dilakukan pengecekan pada data missing value yang hasilnya ada\n",
    "- sedangkan nilai duplicate tidak ada\n",
    "- namun pada beberapa data yang berupa tanggal tipe datanya masih objek\n",
    "- orders = missing value"
   ]
  },
  {
   "cell_type": "markdown",
   "metadata": {
    "id": "EhN5R4hr8DC1"
   },
   "source": [
    "### Cleaning Data"
   ]
  },
  {
   "cell_type": "markdown",
   "metadata": {
    "id": "7dtxhAPrkhPL"
   },
   "source": [
    "**Need Cleaning:**\n",
    "- products_df = missing value\n",
    "- orders_df = missing value and object to datetime type"
   ]
  },
  {
   "cell_type": "code",
   "execution_count": null,
   "metadata": {
    "id": "jVnYpprE9Evz"
   },
   "outputs": [],
   "source": [
    "## handling missing value on product_df\n",
    "products_df.describe()\n",
    "products_df.isna().sum()"
   ]
  },
  {
   "cell_type": "code",
   "execution_count": null,
   "metadata": {},
   "outputs": [],
   "source": [
    "products_df['product_category_name'].fillna(\"unknown\", inplace=True)\n",
    "\n",
    "num_cols = ['product_name_lenght', 'product_description_lenght', \n",
    "            'product_photos_qty', 'product_weight_g', \n",
    "            'product_length_cm', 'product_height_cm', 'product_width_cm']\n",
    "\n",
    "for col in num_cols:\n",
    "    median_value = products_df[col].median()\n",
    "    products_df[col].fillna(median_value, inplace=True)\n",
    "\n",
    "print(products_df.isna().sum())"
   ]
  },
  {
   "cell_type": "code",
   "execution_count": null,
   "metadata": {},
   "outputs": [],
   "source": [
    "## handling missing value on orders_df\n",
    "orders_df.describe()\n",
    "orders_df.isna().sum()"
   ]
  },
  {
   "cell_type": "markdown",
   "metadata": {
    "id": "Q_5ejIqckiSP"
   },
   "source": [
    "**Insight:**\n",
    "- untuk data missing di order_approved_at Diisi dengan order_purchase_timestamp karena pesanan pasti dibuat sebelum disetujui.\n",
    "- untuk data missing di order_delivered_carrier_date Diisi dengan order_approved_at, karena pesanan harus disetujui sebelum dikirim ke kurir.\n",
    "- untuk data missing di Diisi dengan order_estimated_delivery_date, karena perkiraan pengiriman bisa menjadi acuan jika tidak ada data aktual.\n",
    "- sebelum data missing  diisi maka dilakukan perubahan tipe data pada beberapa data yang bentuk tanggal masih object"
   ]
  },
  {
   "cell_type": "code",
   "execution_count": 68,
   "metadata": {},
   "outputs": [],
   "source": [
    "date_cols = [\n",
    "    \"order_purchase_timestamp\", \n",
    "    \"order_approved_at\", \n",
    "    \"order_delivered_carrier_date\", \n",
    "    \"order_delivered_customer_date\", \n",
    "    \"order_estimated_delivery_date\"\n",
    "]\n",
    "\n",
    "for col in date_cols:\n",
    "    orders_df[col] = pd.to_datetime(orders_df[col])\n",
    "\n",
    "orders_df[\"order_approved_at\"] = orders_df[\"order_approved_at\"].fillna(orders_df[\"order_purchase_timestamp\"])\n",
    "orders_df[\"order_delivered_carrier_date\"] = orders_df[\"order_delivered_carrier_date\"].fillna(orders_df[\"order_approved_at\"])\n",
    "orders_df[\"order_delivered_customer_date\"] = orders_df[\"order_delivered_customer_date\"].fillna(orders_df[\"order_estimated_delivery_date\"])"
   ]
  },
  {
   "cell_type": "code",
   "execution_count": null,
   "metadata": {},
   "outputs": [],
   "source": [
    "orders_df.isna().sum()"
   ]
  },
  {
   "cell_type": "code",
   "execution_count": null,
   "metadata": {},
   "outputs": [],
   "source": [
    "orders_df.info()"
   ]
  },
  {
   "cell_type": "markdown",
   "metadata": {
    "id": "gp-Y6wU38DC1"
   },
   "source": [
    "## Exploratory Data Analysis (EDA)"
   ]
  },
  {
   "cell_type": "markdown",
   "metadata": {
    "id": "MW7WF2kr8DC1"
   },
   "source": [
    "### Explorasi distribusi penjualan berdasarkan kategori produk"
   ]
  },
  {
   "cell_type": "code",
   "execution_count": null,
   "metadata": {
    "id": "e9CQCZjk8DC2"
   },
   "outputs": [],
   "source": [
    "# Merge order_items_df dengan products_df berdasarkan product_id\n",
    "sales_data = order_items_df.merge(\n",
    "    products_df[['product_id', 'product_category_name']],\n",
    "    on='product_id', \n",
    "    how='left'\n",
    ")\n",
    "\n",
    "# Merge dengan product_category_df untuk mendapatkan kategori dalam bahasa Inggris\n",
    "sales_data = sales_data.merge(product_category_df, on='product_category_name', how='left')\n",
    "\n",
    "# Cek jumlah data setelah merging\n",
    "# print(f\"Jumlah total data setelah merging: {sales_data.shape[0]}\")\n",
    "print(sales_data.head())"
   ]
  },
  {
   "cell_type": "code",
   "execution_count": null,
   "metadata": {},
   "outputs": [],
   "source": [
    "# Menghitung Jumlah Produk yang Terjual per Kategori\n",
    "category_sales = sales_data.groupby('product_category_name_english').agg(\n",
    "    total_sales=('product_id', 'count')\n",
    ").reset_index()\n",
    "\n",
    "# Cek 5 kategori teratas\n",
    "category_sales = category_sales.sort_values(by='total_sales', ascending=False)\n",
    "category_sales.head(5)"
   ]
  },
  {
   "cell_type": "code",
   "execution_count": null,
   "metadata": {},
   "outputs": [],
   "source": [
    "# Menghitung Total Pendapatan per Kategori\n",
    "category_revenue = sales_data.groupby('product_category_name_english').agg(\n",
    "    total_revenue=('price', 'sum')\n",
    ").reset_index()\n",
    "\n",
    "# Urutkan dari yang tertinggi\n",
    "category_revenue = category_revenue.sort_values(by='total_revenue', ascending=False)\n",
    "category_revenue.head(5)"
   ]
  },
  {
   "cell_type": "markdown",
   "metadata": {
    "id": "th_Lzl2Fkj9O"
   },
   "source": [
    "**Insight:**\n",
    "- pada tahap exploratory pada data product, order_items dan product_category ini menggunakan sistem penggabungan untuk memahami distribusi penjualan\n",
    "- ditemukan pada data diatas beberapa kategori yang penjualannya mendominasi penjualannya per item namun ada beberapa kategori produk yang pendapatannya lebih besar meskipun penjualannya lebih sedikit, yang ini disebabkan oleh harga yang lebih tinggi"
   ]
  },
  {
   "cell_type": "markdown",
   "metadata": {
    "id": "MW7WF2kr8DC1"
   },
   "source": [
    "### Explorasi pola pembayaran customer"
   ]
  },
  {
   "cell_type": "code",
   "execution_count": null,
   "metadata": {},
   "outputs": [],
   "source": [
    "# Melihat distribusi metode pembayaran\n",
    "order_payments_df[\"payment_type\"].value_counts()"
   ]
  },
  {
   "cell_type": "code",
   "execution_count": null,
   "metadata": {},
   "outputs": [],
   "source": [
    "# Menggabungkan order_payments_df dengan orders_df\n",
    "merged_df = order_payments_df.merge(orders_df, on=\"order_id\", how=\"left\")\n",
    "merged_df.head()"
   ]
  },
  {
   "cell_type": "code",
   "execution_count": 85,
   "metadata": {},
   "outputs": [],
   "source": [
    "# Konversi ke datetime\n",
    "merged_df[\"order_purchase_timestamp\"] = pd.to_datetime(merged_df[\"order_purchase_timestamp\"])\n",
    "\n",
    "# Menambahkan kolom bulan dan tahun\n",
    "merged_df[\"order_month\"] = merged_df[\"order_purchase_timestamp\"].dt.to_period(\"M\")"
   ]
  },
  {
   "cell_type": "markdown",
   "metadata": {
    "id": "zsyZjqak8DC2"
   },
   "source": [
    "## Visualization & Explanatory Analysis"
   ]
  },
  {
   "cell_type": "markdown",
   "metadata": {
    "id": "HZxOiQ6n8DC2"
   },
   "source": [
    "### Pertanyaan 1:"
   ]
  },
  {
   "cell_type": "code",
   "execution_count": null,
   "metadata": {
    "id": "1swJUdAD8DC2"
   },
   "outputs": [],
   "source": [
    "Bagaimana distribusi penjualan berdasarkan kategori produk?"
   ]
  },
  {
   "cell_type": "code",
   "execution_count": null,
   "metadata": {},
   "outputs": [],
   "source": [
    "# Plot jumlah penjualan per kategori\n",
    "plt.figure(figsize=(10, 5))\n",
    "sns.barplot(\n",
    "    data=category_sales.head(5), \n",
    "    x=\"total_sales\", \n",
    "    y=\"product_category_name_english\", \n",
    "    palette=\"Blues_r\"\n",
    ")\n",
    "plt.xlabel(\"Total Produk Terjual\")\n",
    "plt.ylabel(\"Kategori Produk\")\n",
    "plt.title(\"5 Kategori Produk dengan Penjualan Terbanyak\")\n",
    "plt.show()\n"
   ]
  },
  {
   "cell_type": "markdown",
   "metadata": {
    "id": "_0-36BDLklRg"
   },
   "source": [
    "**Insight:**\n",
    "- Kategori bed_bath_table memiliki jumlah penjualan tertinggi, diikuti oleh health_beauty dan sports_leisure."
   ]
  },
  {
   "cell_type": "code",
   "execution_count": null,
   "metadata": {},
   "outputs": [],
   "source": [
    "# Plot total pendapatan per kategori\n",
    "plt.figure(figsize=(10, 5))\n",
    "sns.barplot(\n",
    "    data=category_revenue.head(5), \n",
    "    x=\"total_revenue\", \n",
    "    y=\"product_category_name_english\", \n",
    "    palette=\"Oranges_r\"\n",
    ")\n",
    "plt.xlabel(\"Total Pendapatan (dalam juta)\")\n",
    "plt.ylabel(\"Kategori Produk\")\n",
    "plt.title(\"5 Kategori Produk dengan Pendapatan Tertinggi\")\n",
    "plt.show()"
   ]
  },
  {
   "cell_type": "markdown",
   "metadata": {
    "id": "_0-36BDLklRg"
   },
   "source": [
    "**Insight:**\n",
    "- Kategori watches_gifts memiliki pendapatan tinggi walaupun tidak masuk ke dalam 5 besar kategori dengan jumlah produk terjual."
   ]
  },
  {
   "cell_type": "markdown",
   "metadata": {
    "id": "DgHI7CiU8DC2"
   },
   "source": [
    "### Pertanyaan 2:"
   ]
  },
  {
   "cell_type": "code",
   "execution_count": null,
   "metadata": {
    "id": "Go0lCsvO8DC2"
   },
   "outputs": [],
   "source": [
    "Bagaimana waktu dan pola pembayaran pelanggan?"
   ]
  },
  {
   "cell_type": "code",
   "execution_count": null,
   "metadata": {},
   "outputs": [],
   "source": [
    "import matplotlib.pyplot as plt\n",
    "import seaborn as sns\n",
    "\n",
    "# Hitung jumlah transaksi berdasarkan metode pembayaran\n",
    "payment_counts = order_payments_df[\"payment_type\"].value_counts()\n",
    "\n",
    "# Visualisasi menggunakan pie chart\n",
    "plt.figure(figsize=(8, 8))\n",
    "plt.pie(payment_counts, labels=payment_counts.index, autopct=\"%1.1f%%\", colors=sns.color_palette(\"pastel\"))\n",
    "plt.title(\"Distribusi Metode Pembayaran\")\n",
    "plt.show()\n"
   ]
  },
  {
   "cell_type": "markdown",
   "metadata": {
    "id": "_0-36BDLklRg"
   },
   "source": [
    "**Insight:**\n",
    "- Metode pembayaran yang paling banyak digunakan adalah credit_card, menunjukkan bahwa mayoritas pelanggan lebih memilih pembayaran non-tunai.\n",
    "- Metode pembayaran lainnya seperti boleto dan voucher memiliki porsi yang lebih kecil."
   ]
  },
  {
   "cell_type": "code",
   "execution_count": null,
   "metadata": {},
   "outputs": [],
   "source": [
    "# Melihat tren jumlah transaksi per bulan\n",
    "merged_df.groupby(\"order_month\")[\"payment_value\"].sum().plot(kind=\"line\", figsize=(12,6), title=\"Total Pembayaran per Bulan\")"
   ]
  },
  {
   "cell_type": "markdown",
   "metadata": {
    "id": "_0-36BDLklRg"
   },
   "source": [
    "**Insight:**\n",
    "- Transaksi customer pada bulan oktober dan april mengalami pelonjakan yang mungkin bisa disebabkan oleh event tertentu seperti diskon atau yang lainnya"
   ]
  },
  {
   "cell_type": "markdown",
   "metadata": {
    "id": "_WeHlCeX8DC2"
   },
   "source": [
    "## Conclusion"
   ]
  },
  {
   "cell_type": "markdown",
   "metadata": {
    "id": "ZTcyR48Y8DC2"
   },
   "source": [
    "### 1. Distribusi Penjualan Berdasarkan Kategori Produk\n",
    "- **Kategori dengan jumlah penjualan terbanyak:** bed_bath_table, health_beauty, sports_leisure, furniture_decor, dan computers_accessories.\n",
    "- **Kategori dengan pendapatan tertinggi:** health_beauty, watches_gifts, bed_bath_table, sports_leisure, dan computers_accessories.\n",
    "- **Insight:** Kategori health_beauty memiliki pendapatan tertinggi meskipun bukan kategori dengan jumlah penjualan tertinggi, menunjukkan bahwa harga produk dalam kategori ini lebih tinggi dibandingkan kategori lain.\n",
    "\n",
    "### 2. Waktu dan Pola Pembayaran Pelanggan\n",
    "- **Metode pembayaran paling banyak digunakan:** credit_card, diikuti oleh boleto dan voucher.\n",
    "- **Pola pembayaran per bulan menunjukkan fluktuasi**, dengan beberapa bulan memiliki transaksi lebih tinggi, kemungkinan dipengaruhi oleh momen promosi atau hari besar."
   ]
  }
 ],
 "metadata": {
  "colab": {
   "provenance": [
    {
     "file_id": "1ug4Ox4qIFDSo1koFA0XiNJE-ce12rECy",
     "timestamp": 1741062534615
    }
   ],
   "toc_visible": true
  },
  "kernelspec": {
   "display_name": "Python 3 (ipykernel)",
   "language": "python",
   "name": "python3"
  },
  "language_info": {
   "codemirror_mode": {
    "name": "ipython",
    "version": 3
   },
   "file_extension": ".py",
   "mimetype": "text/x-python",
   "name": "python",
   "nbconvert_exporter": "python",
   "pygments_lexer": "ipython3",
   "version": "3.10.12"
  },
  "vscode": {
   "interpreter": {
    "hash": "972b3bf27e332e87b5379f2791f6ef9dfc79c71018c370b0d7423235e20fe4d7"
   }
  }
 },
 "nbformat": 4,
 "nbformat_minor": 4
}
